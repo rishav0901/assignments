{
 "cells": [
  {
   "cell_type": "code",
   "execution_count": 2,
   "id": "e9d5f20b-0e07-449f-81d3-7510e9bd8d95",
   "metadata": {},
   "outputs": [],
   "source": [
    "d = {}"
   ]
  },
  {
   "cell_type": "code",
   "execution_count": 3,
   "id": "aadd95c7-dffc-403e-a219-77dbf3d8b0bb",
   "metadata": {},
   "outputs": [
    {
     "data": {
      "text/plain": [
       "dict"
      ]
     },
     "execution_count": 3,
     "metadata": {},
     "output_type": "execute_result"
    }
   ],
   "source": [
    "type(d)"
   ]
  },
  {
   "cell_type": "code",
   "execution_count": 4,
   "id": "a771ce32-f1d2-4f54-be78-2725f78c85a6",
   "metadata": {},
   "outputs": [],
   "source": [
    "d1 = {'key' : \"rish\"}"
   ]
  },
  {
   "cell_type": "code",
   "execution_count": 5,
   "id": "97fdc3b3-64ef-44c6-bc1c-f0df170a19d2",
   "metadata": {},
   "outputs": [
    {
     "data": {
      "text/plain": [
       "{'key': 'rish'}"
      ]
     },
     "execution_count": 5,
     "metadata": {},
     "output_type": "execute_result"
    }
   ],
   "source": [
    "d1"
   ]
  },
  {
   "cell_type": "code",
   "execution_count": 28,
   "id": "c2d63944-90f3-45ee-94b8-a47b52e045c7",
   "metadata": {},
   "outputs": [],
   "source": [
    "d2 = {'name' : \"Rishav\", \"email\" : \"anandrishav123@gmail.com\", \"number\" : 123456, \"name\" : \"anand\"}"
   ]
  },
  {
   "cell_type": "code",
   "execution_count": 30,
   "id": "bf2e7d98-3ad7-4574-9102-98c63d881e26",
   "metadata": {
    "tags": []
   },
   "outputs": [
    {
     "data": {
      "text/plain": [
       "'anand'"
      ]
     },
     "execution_count": 30,
     "metadata": {},
     "output_type": "execute_result"
    }
   ],
   "source": [
    "d2['name']"
   ]
  },
  {
   "cell_type": "code",
   "execution_count": 31,
   "id": "28288c77-da5a-4f09-b7d1-9f290f55c813",
   "metadata": {},
   "outputs": [],
   "source": [
    "d5 = {\"company\": \"PWSkills\", \"courses\": [\"webdev\", \"data science\", \"dsa\", \"java\"]}"
   ]
  },
  {
   "cell_type": "code",
   "execution_count": 32,
   "id": "3b15c9e0-4f01-499f-bc46-fb8b36c941cc",
   "metadata": {},
   "outputs": [
    {
     "data": {
      "text/plain": [
       "{'company': 'PWSkills', 'courses': ['webdev', 'data science', 'dsa', 'java']}"
      ]
     },
     "execution_count": 32,
     "metadata": {},
     "output_type": "execute_result"
    }
   ],
   "source": [
    "d5"
   ]
  },
  {
   "cell_type": "code",
   "execution_count": 33,
   "id": "e3a867e4-9701-41c4-ad03-4a82d992d15f",
   "metadata": {},
   "outputs": [
    {
     "data": {
      "text/plain": [
       "['webdev', 'data science', 'dsa', 'java']"
      ]
     },
     "execution_count": 33,
     "metadata": {},
     "output_type": "execute_result"
    }
   ],
   "source": [
    "d5['courses']"
   ]
  },
  {
   "cell_type": "code",
   "execution_count": 35,
   "id": "b4e5a33d-6d6f-4ba6-b48d-94a9f7ebc53c",
   "metadata": {},
   "outputs": [
    {
     "data": {
      "text/plain": [
       "'java'"
      ]
     },
     "execution_count": 35,
     "metadata": {},
     "output_type": "execute_result"
    }
   ],
   "source": [
    "d5[\"courses\"][3]"
   ]
  },
  {
   "cell_type": "code",
   "execution_count": 13,
   "id": "04f2e325-e502-4631-b023-8fb1d9bded19",
   "metadata": {},
   "outputs": [],
   "source": [
    "d6 = {\"number\" : [2,23,54,658,4548,5412,45], \"assignments\": (1,2,3,4,5,6,7), 'launch_date' : {28,12,14}}"
   ]
  },
  {
   "cell_type": "code",
   "execution_count": null,
   "id": "07e62d2c-f52a-47a7-8b50-1f20e807fde6",
   "metadata": {},
   "outputs": [],
   "source": []
  },
  {
   "cell_type": "code",
   "execution_count": 5,
   "id": "cc95076e-895b-4c39-a900-f8ba9e5b4085",
   "metadata": {},
   "outputs": [
    {
     "data": {
      "text/plain": [
       "{'number': [2, 23, 54, 658, 4548, 5412, 45],\n",
       " 'assignments': (1, 2, 3, 4, 5, 6, 7),\n",
       " 'launch_date': {12, 14, 28}}"
      ]
     },
     "execution_count": 5,
     "metadata": {},
     "output_type": "execute_result"
    }
   ],
   "source": [
    "d6"
   ]
  },
  {
   "cell_type": "code",
   "execution_count": 6,
   "id": "4fbba8b9-8855-4832-808b-4609fbf260b4",
   "metadata": {},
   "outputs": [],
   "source": [
    "d6['mentor'] = [\"rishav\",\"anand\"]"
   ]
  },
  {
   "cell_type": "code",
   "execution_count": 7,
   "id": "abbf76c5-629b-497f-b4ad-fe446e35e548",
   "metadata": {},
   "outputs": [
    {
     "data": {
      "text/plain": [
       "{'number': [2, 23, 54, 658, 4548, 5412, 45],\n",
       " 'assignments': (1, 2, 3, 4, 5, 6, 7),\n",
       " 'launch_date': {12, 14, 28},\n",
       " 'mentor': ['rishav', 'anand']}"
      ]
     },
     "execution_count": 7,
     "metadata": {},
     "output_type": "execute_result"
    }
   ],
   "source": [
    "d6"
   ]
  },
  {
   "cell_type": "code",
   "execution_count": 8,
   "id": "cab679d5-950a-4953-bf7a-244193844993",
   "metadata": {},
   "outputs": [],
   "source": [
    "d6['mentor'] = [\"anand\", \"rishav\"]"
   ]
  },
  {
   "cell_type": "code",
   "execution_count": 9,
   "id": "8321647a-2efc-4cbf-8b6e-0052e08103f0",
   "metadata": {},
   "outputs": [
    {
     "data": {
      "text/plain": [
       "{'number': [2, 23, 54, 658, 4548, 5412, 45],\n",
       " 'assignments': (1, 2, 3, 4, 5, 6, 7),\n",
       " 'launch_date': {12, 14, 28},\n",
       " 'mentor': ['anand', 'rishav']}"
      ]
     },
     "execution_count": 9,
     "metadata": {},
     "output_type": "execute_result"
    }
   ],
   "source": [
    "d6"
   ]
  },
  {
   "cell_type": "code",
   "execution_count": 10,
   "id": "5cae05ac-02d9-4afd-bfd6-f317036a6ca5",
   "metadata": {},
   "outputs": [
    {
     "ename": "SyntaxError",
     "evalue": "invalid syntax (2367278011.py, line 1)",
     "output_type": "error",
     "traceback": [
      "\u001b[0;36m  Cell \u001b[0;32mIn[10], line 1\u001b[0;36m\u001b[0m\n\u001b[0;31m    delete dic\u001b[0m\n\u001b[0m           ^\u001b[0m\n\u001b[0;31mSyntaxError\u001b[0m\u001b[0;31m:\u001b[0m invalid syntax\n"
     ]
    }
   ],
   "source": [
    "delete dic"
   ]
  },
  {
   "cell_type": "code",
   "execution_count": 11,
   "id": "28a682e0-d68b-4c9c-87e3-a74b23172a53",
   "metadata": {},
   "outputs": [],
   "source": [
    "del d6"
   ]
  },
  {
   "cell_type": "code",
   "execution_count": 14,
   "id": "721fa34f-8b3f-479c-87b6-995f504c6fb0",
   "metadata": {},
   "outputs": [
    {
     "data": {
      "text/plain": [
       "{'number': [2, 23, 54, 658, 4548, 5412, 45],\n",
       " 'assignments': (1, 2, 3, 4, 5, 6, 7),\n",
       " 'launch_date': {12, 14, 28}}"
      ]
     },
     "execution_count": 14,
     "metadata": {},
     "output_type": "execute_result"
    }
   ],
   "source": [
    "d6"
   ]
  },
  {
   "cell_type": "code",
   "execution_count": 20,
   "id": "a0171707-a6eb-4377-90d9-25d0f37fbf22",
   "metadata": {},
   "outputs": [
    {
     "data": {
      "text/plain": [
       "['assignments', 'launch_date']"
      ]
     },
     "execution_count": 20,
     "metadata": {},
     "output_type": "execute_result"
    }
   ],
   "source": [
    "list(d6.keys())"
   ]
  },
  {
   "cell_type": "code",
   "execution_count": 21,
   "id": "d7bef564-a621-482c-95d3-1e51009d496e",
   "metadata": {},
   "outputs": [
    {
     "data": {
      "text/plain": [
       "dict_values([(1, 2, 3, 4, 5, 6, 7), {28, 12, 14}])"
      ]
     },
     "execution_count": 21,
     "metadata": {},
     "output_type": "execute_result"
    }
   ],
   "source": [
    "d6.values()"
   ]
  },
  {
   "cell_type": "code",
   "execution_count": 22,
   "id": "8b6c8bf1-94e9-4157-b233-35a7671d5666",
   "metadata": {},
   "outputs": [
    {
     "data": {
      "text/plain": [
       "dict_keys(['assignments', 'launch_date'])"
      ]
     },
     "execution_count": 22,
     "metadata": {},
     "output_type": "execute_result"
    }
   ],
   "source": [
    "d6.keys()"
   ]
  },
  {
   "cell_type": "code",
   "execution_count": 27,
   "id": "c2fb8bc2-77ee-4bb5-9138-f854a4b4788b",
   "metadata": {},
   "outputs": [
    {
     "data": {
      "text/plain": [
       "[('assignments', (1, 2, 3, 4, 5, 6, 7)), ('launch_date', {12, 14, 28})]"
      ]
     },
     "execution_count": 27,
     "metadata": {},
     "output_type": "execute_result"
    }
   ],
   "source": [
    "list(d6.items())"
   ]
  },
  {
   "cell_type": "code",
   "execution_count": 37,
   "id": "33e8681c-b3eb-4ef5-beb9-9c1c7b1b9494",
   "metadata": {},
   "outputs": [],
   "source": [
    "d6['mentor']=['rishav','anand']"
   ]
  },
  {
   "cell_type": "code",
   "execution_count": 38,
   "id": "710bd17f-27aa-4a2c-a916-36b41005c9d6",
   "metadata": {},
   "outputs": [
    {
     "data": {
      "text/plain": [
       "{'assignments': (1, 2, 3, 4, 5, 6, 7),\n",
       " 'launch_date': {12, 14, 28},\n",
       " 'mentor': ['rishav', 'anand']}"
      ]
     },
     "execution_count": 38,
     "metadata": {},
     "output_type": "execute_result"
    }
   ],
   "source": [
    "d6"
   ]
  },
  {
   "cell_type": "code",
   "execution_count": 55,
   "id": "275db90e-3a8e-488e-962d-9927c6e2ef98",
   "metadata": {},
   "outputs": [
    {
     "name": "stdin",
     "output_type": "stream",
     "text": [
      "Enter Your Marks 45555\n"
     ]
    },
    {
     "name": "stdout",
     "output_type": "stream",
     "text": [
      "you will be a part of A0 batch\n"
     ]
    }
   ],
   "source": [
    "marks = int(input(\"Enter Your Marks\"))\n",
    "\n",
    "if marks >= 80:\n",
    "    print (\"you will be a part of A0 batch\")\n",
    "elif marks >= 80 and marks < 80:\n",
    "    print (\"you will be a part if A1 batch\")\n",
    "elif marks >=40 and marks <60:\n",
    "    print (\"you will be a part of A2 batch\")\n",
    "else :\n",
    "    print (\"you will be the part of A3 batch\")\n",
    "    "
   ]
  },
  {
   "cell_type": "code",
   "execution_count": 51,
   "id": "966b5980-11de-4d23-8b7a-15ce964d679f",
   "metadata": {},
   "outputs": [
    {
     "data": {
      "text/plain": [
       "str"
      ]
     },
     "execution_count": 51,
     "metadata": {},
     "output_type": "execute_result"
    }
   ],
   "source": [
    "type(marks)"
   ]
  },
  {
   "cell_type": "code",
   "execution_count": 56,
   "id": "dfef7930-3061-4abf-826d-64c15933c014",
   "metadata": {},
   "outputs": [
    {
     "data": {
      "text/plain": [
       "int"
      ]
     },
     "execution_count": 56,
     "metadata": {},
     "output_type": "execute_result"
    }
   ],
   "source": [
    "type(marks)"
   ]
  },
  {
   "cell_type": "code",
   "execution_count": 62,
   "id": "f61a1113-84c1-481b-81d3-1c6ed9a270f2",
   "metadata": {},
   "outputs": [
    {
     "name": "stdin",
     "output_type": "stream",
     "text": [
      "Enter Price 10000\n"
     ]
    },
    {
     "name": "stdout",
     "output_type": "stream",
     "text": [
      " i not will buy\n",
      " Too much \n"
     ]
    }
   ],
   "source": [
    "price = int(input(\"Enter Price\"))\n",
    "if price > 1000:\n",
    "            print(\" i not will buy\")\n",
    "            if price > 5000:\n",
    "                print(\" Too much \")\n",
    "else :\n",
    "            print(\" i wll buy\")"
   ]
  },
  {
   "cell_type": "code",
   "execution_count": 83,
   "id": "05714363-cd0f-4ee0-81b7-526affc3ad06",
   "metadata": {},
   "outputs": [],
   "source": [
    "l = [1,2,3,4,5,6]"
   ]
  },
  {
   "cell_type": "code",
   "execution_count": 65,
   "id": "cd2f2632-2962-408c-977c-cb3e9d66c24a",
   "metadata": {},
   "outputs": [
    {
     "name": "stdout",
     "output_type": "stream",
     "text": [
      "1\n",
      "2\n",
      "3\n",
      "4\n",
      "5\n",
      "6\n",
      "7\n",
      "8\n",
      "9\n",
      "10\n",
      "11\n",
      "12\n",
      "13\n"
     ]
    }
   ],
   "source": [
    "for i in l:\n",
    "    print (i)"
   ]
  },
  {
   "cell_type": "code",
   "execution_count": 66,
   "id": "1943d21f-8b30-487f-a5ba-4af8e4fb079d",
   "metadata": {},
   "outputs": [
    {
     "data": {
      "text/plain": [
       "int"
      ]
     },
     "execution_count": 66,
     "metadata": {},
     "output_type": "execute_result"
    }
   ],
   "source": [
    "type(i)"
   ]
  },
  {
   "cell_type": "code",
   "execution_count": 68,
   "id": "ed3003ff-7ecb-427e-967a-828799fe4bf5",
   "metadata": {},
   "outputs": [
    {
     "data": {
      "text/plain": [
       "list"
      ]
     },
     "execution_count": 68,
     "metadata": {},
     "output_type": "execute_result"
    }
   ],
   "source": [
    "type(l)"
   ]
  },
  {
   "cell_type": "code",
   "execution_count": 85,
   "id": "b39ebb7d-2403-49ca-8694-92d206d990d0",
   "metadata": {},
   "outputs": [
    {
     "name": "stdout",
     "output_type": "stream",
     "text": [
      "2\n",
      "3\n",
      "4\n",
      "5\n",
      "6\n",
      "7\n",
      "[1, 2, 3, 4, 5, 6]\n"
     ]
    }
   ],
   "source": [
    "for i in l:\n",
    "    i = i+1\n",
    "    print (i)\n",
    "print(l)"
   ]
  },
  {
   "cell_type": "code",
   "execution_count": 98,
   "id": "d0d5cd37-097e-4afe-8d06-7cbe6fedd3e5",
   "metadata": {},
   "outputs": [
    {
     "name": "stdout",
     "output_type": "stream",
     "text": [
      "2\n",
      "3\n",
      "4\n",
      "5\n",
      "6\n",
      "7\n"
     ]
    },
    {
     "data": {
      "text/plain": [
       "([2, 3, 4, 5, 6, 7], [1, 2, 3, 4, 5, 6])"
      ]
     },
     "execution_count": 98,
     "metadata": {},
     "output_type": "execute_result"
    }
   ],
   "source": [
    "l1 = []\n",
    "for i in l:\n",
    "    print(i+1)\n",
    "    l1.append(i+1)\n",
    "l1, l"
   ]
  },
  {
   "cell_type": "code",
   "execution_count": 93,
   "id": "4a78baba-96db-402e-ab70-aaf278a8a428",
   "metadata": {},
   "outputs": [
    {
     "data": {
      "text/plain": [
       "[2, 3, 4, 5, 6, 7]"
      ]
     },
     "execution_count": 93,
     "metadata": {},
     "output_type": "execute_result"
    }
   ],
   "source": [
    "l1"
   ]
  },
  {
   "cell_type": "code",
   "execution_count": 99,
   "id": "cb1c013a-bfb0-486c-97bd-5e2cc2d007b3",
   "metadata": {},
   "outputs": [],
   "source": [
    "l = [\"rishav\", \"anand\"]"
   ]
  },
  {
   "cell_type": "code",
   "execution_count": 100,
   "id": "228fbd5f-a731-4129-8b24-cbd5a6997037",
   "metadata": {},
   "outputs": [
    {
     "data": {
      "text/plain": [
       "['rishav', 'anand']"
      ]
     },
     "execution_count": 100,
     "metadata": {},
     "output_type": "execute_result"
    }
   ],
   "source": [
    "l"
   ]
  },
  {
   "cell_type": "code",
   "execution_count": 106,
   "id": "70b40c86-46f9-4b2c-9348-9be071fba290",
   "metadata": {},
   "outputs": [
    {
     "name": "stdout",
     "output_type": "stream",
     "text": [
      "rishav\n",
      "anand\n"
     ]
    }
   ],
   "source": [
    "l2 = []\n",
    "for i in l:\n",
    "    print(i)\n",
    "    l2.append(i.upper())"
   ]
  },
  {
   "cell_type": "code",
   "execution_count": 108,
   "id": "0e2885eb-eb4e-4d7d-b274-7885f39381bd",
   "metadata": {},
   "outputs": [
    {
     "data": {
      "text/plain": [
       "['RISHAV', 'ANAND']"
      ]
     },
     "execution_count": 108,
     "metadata": {},
     "output_type": "execute_result"
    }
   ],
   "source": [
    "l2"
   ]
  },
  {
   "cell_type": "code",
   "execution_count": 109,
   "id": "df1974a6-35b5-4577-9145-2d49e0f4e927",
   "metadata": {},
   "outputs": [],
   "source": [
    " r = [1,2,3,4,5,6,\"rishav\",\"anand\"]"
   ]
  },
  {
   "cell_type": "code",
   "execution_count": 110,
   "id": "0f14de99-18b2-46b8-b8dd-e38b253c1861",
   "metadata": {},
   "outputs": [
    {
     "data": {
      "text/plain": [
       "[1, 2, 3, 4, 5, 6, 'rishav', 'anand']"
      ]
     },
     "execution_count": 110,
     "metadata": {},
     "output_type": "execute_result"
    }
   ],
   "source": [
    "r"
   ]
  },
  {
   "cell_type": "code",
   "execution_count": 113,
   "id": "0151a587-97e7-456d-ad87-d30b99692b8b",
   "metadata": {},
   "outputs": [
    {
     "data": {
      "text/plain": [
       "([1, 2, 3, 4, 5, 6], ['rishav', 'anand'])"
      ]
     },
     "execution_count": 113,
     "metadata": {},
     "output_type": "execute_result"
    }
   ],
   "source": [
    "r1_num = []\n",
    "r2_str = []\n",
    "for i in r:\n",
    "    if type(i) == int or type(i) == float:\n",
    "        r1_num.append(i)\n",
    "    else:\n",
    "        r2_str.append(i)\n",
    "        \n",
    "r1_num, r2_str"
   ]
  },
  {
   "cell_type": "code",
   "execution_count": 115,
   "id": "8eea3f69-ed90-443c-8922-f368b7276f50",
   "metadata": {},
   "outputs": [
    {
     "data": {
      "text/plain": [
       "[1, 2, 3, 4, 5, 6]"
      ]
     },
     "execution_count": 115,
     "metadata": {},
     "output_type": "execute_result"
    }
   ],
   "source": [
    "r1_num"
   ]
  },
  {
   "cell_type": "code",
   "execution_count": 116,
   "id": "a74ad3f5-3d13-4f31-8dc7-661f737e1df2",
   "metadata": {},
   "outputs": [
    {
     "data": {
      "text/plain": [
       "['rishav', 'anand']"
      ]
     },
     "execution_count": 116,
     "metadata": {},
     "output_type": "execute_result"
    }
   ],
   "source": [
    "r2_str"
   ]
  },
  {
   "cell_type": "code",
   "execution_count": 117,
   "id": "bc6a4b26-3437-421d-aace-3c260b5e380a",
   "metadata": {},
   "outputs": [
    {
     "data": {
      "text/plain": [
       "([1, 2, 3, 4, 5, 6], ['rishav', 'anand'])"
      ]
     },
     "execution_count": 117,
     "metadata": {},
     "output_type": "execute_result"
    }
   ],
   "source": [
    "r1_num , r2_str"
   ]
  }
 ],
 "metadata": {
  "kernelspec": {
   "display_name": "Python 3 (ipykernel)",
   "language": "python",
   "name": "python3"
  },
  "language_info": {
   "codemirror_mode": {
    "name": "ipython",
    "version": 3
   },
   "file_extension": ".py",
   "mimetype": "text/x-python",
   "name": "python",
   "nbconvert_exporter": "python",
   "pygments_lexer": "ipython3",
   "version": "3.10.8"
  }
 },
 "nbformat": 4,
 "nbformat_minor": 5
}
