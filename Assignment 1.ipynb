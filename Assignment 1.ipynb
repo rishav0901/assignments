{
 "cells": [
  {
   "cell_type": "code",
   "execution_count": 2,
   "id": "6d921daa-2e1e-42a2-94cf-7734d21e9c85",
   "metadata": {},
   "outputs": [],
   "source": [
    "## for loop is used when we know the exact number of itteration, \n",
    "## where as while loop is used when we don't no the exact numer of irretation\n"
   ]
  },
  {
   "cell_type": "code",
   "execution_count": null,
   "id": "62693788-2c09-4c0f-9c5e-49c60efe57d3",
   "metadata": {},
   "outputs": [],
   "source": [
    "## Programe to find sun and product of first 10 natural number with for loop\n",
    "x = 1\n",
    "y = 1\n",
    "z = 0\n",
    "for i in range(10):\n",
    "    z = z+x\n",
    "    y = y*x\n",
    "    x = x+1\n",
    "print(\"Sum of first 10 natural numbers are \"+ str(z)),\n",
    "\n",
    "print( \"Product of first 10 natural numbers are \" + str(y))"
   ]
  },
  {
   "cell_type": "code",
   "execution_count": 3,
   "id": "03b1f577-ecdf-4079-9ac3-423e5b06956b",
   "metadata": {},
   "outputs": [
    {
     "name": "stdout",
     "output_type": "stream",
     "text": [
      "Sum of first 10 natural numbers are 55\n",
      "Product of first 10 natural numbers are 3628800\n"
     ]
    }
   ],
   "source": [
    "## Programe to find sun and product of first 10 natural number with while loop\n",
    "a = 1\n",
    "x = 0\n",
    "y = 1\n",
    "while a <= 10:\n",
    "    x = x+a\n",
    "    y = y*a\n",
    "    a += 1\n",
    "print(\"Sum of first 10 natural numbers are \"+ str(x)),\n",
    "\n",
    "print( \"Product of first 10 natural numbers are \" + str(y))\n",
    "    "
   ]
  },
  {
   "cell_type": "code",
   "execution_count": 5,
   "id": "804df2c7-ca57-408d-9b04-615c565bdb59",
   "metadata": {},
   "outputs": [
    {
     "name": "stdin",
     "output_type": "stream",
     "text": [
      "Enter your Value 310\n"
     ]
    },
    {
     "name": "stdout",
     "output_type": "stream",
     "text": [
      "Your total bill is 2250\n"
     ]
    }
   ],
   "source": [
    "## Program to find total electricity bill as per unit consumed given by user\n",
    "a = input(\"Enter your Value\")\n",
    "a = int(a)\n",
    "bill = 0\n",
    "if a <= 100:\n",
    "    bill = a*4.5\n",
    "if a >100 and a <= 200:\n",
    "    bill = 450+((a-100)*6)\n",
    "if a >200 and a <=300:\n",
    "    bill = 1050+((a-200)*10)\n",
    "if a >300:\n",
    "    bill = 2050+((a-300)*20)\n",
    "print (\"Your total bill is \"+ str(bill))\n",
    "    "
   ]
  },
  {
   "cell_type": "code",
   "execution_count": 16,
   "id": "7fec57ec-876d-4339-ba65-3804104254ab",
   "metadata": {},
   "outputs": [
    {
     "name": "stdout",
     "output_type": "stream",
     "text": [
      "[2, 4, 5, 6, 8, 10, 12, 14, 15, 16, 18, 20, 22, 24, 25, 26, 28, 30, 32, 34, 35, 36, 38, 40, 42, 44, 45, 46, 48, 50, 52, 54, 55, 56, 58, 60, 62, 64, 65, 66, 68, 70, 72, 74, 75, 76, 78, 80, 82, 84, 85, 86, 88, 90, 92, 94, 95, 96, 98, 100]\n"
     ]
    }
   ],
   "source": [
    "lst = list((range(1,101)))\n",
    "resultlist = []\n",
    "for i in lst:\n",
    "    cube = i**3\n",
    "    if cube%4== 0 or cube%5 == 0:\n",
    "        resultlist.append(i)\n",
    "print(resultlist)\n",
    "    \n",
    "    "
   ]
  },
  {
   "cell_type": "code",
   "execution_count": 24,
   "id": "096371be-8870-471a-9948-416fc1eb8610",
   "metadata": {},
   "outputs": [
    {
     "name": "stdout",
     "output_type": "stream",
     "text": [
      "12\n"
     ]
    }
   ],
   "source": [
    "string = \"I want to become a data scientist\"\n",
    "vowel = ['a','e','i','o','u']\n",
    "count = 0\n",
    "for i in string.lower():\n",
    "    if i in vowel:\n",
    "        count = count+1\n",
    "print(count)"
   ]
  },
  {
   "cell_type": "code",
   "execution_count": null,
   "id": "8aabe679-d008-48fe-876c-c104eda18ff5",
   "metadata": {},
   "outputs": [],
   "source": []
  },
  {
   "cell_type": "code",
   "execution_count": null,
   "id": "5efdcb47-f070-41d1-b01b-01e30ee3379c",
   "metadata": {},
   "outputs": [],
   "source": []
  },
  {
   "cell_type": "code",
   "execution_count": null,
   "id": "3a9b568f-b989-4dd2-93ec-cfd94b0609eb",
   "metadata": {},
   "outputs": [],
   "source": []
  },
  {
   "cell_type": "code",
   "execution_count": null,
   "id": "e7d05dbc-a29e-4bae-8006-136b959aa2a4",
   "metadata": {},
   "outputs": [],
   "source": []
  },
  {
   "cell_type": "code",
   "execution_count": null,
   "id": "ddcef38a-c437-4ef1-8e8b-42da962c26a0",
   "metadata": {},
   "outputs": [],
   "source": []
  },
  {
   "cell_type": "code",
   "execution_count": null,
   "id": "dbff1d22-5c12-41be-b67f-2cfb645ed972",
   "metadata": {},
   "outputs": [],
   "source": []
  },
  {
   "cell_type": "code",
   "execution_count": null,
   "id": "a021634e-a297-4181-b329-c4cf14920c25",
   "metadata": {},
   "outputs": [],
   "source": []
  },
  {
   "cell_type": "code",
   "execution_count": null,
   "id": "fecfb0a9-5f77-48bb-b165-79123428ed14",
   "metadata": {},
   "outputs": [],
   "source": []
  },
  {
   "cell_type": "code",
   "execution_count": null,
   "id": "6ade24d7-aba8-4be2-8c00-b0831a357b94",
   "metadata": {},
   "outputs": [],
   "source": []
  },
  {
   "cell_type": "code",
   "execution_count": null,
   "id": "c3e7e592-c3ff-4575-8188-654fdd91def0",
   "metadata": {},
   "outputs": [],
   "source": []
  },
  {
   "cell_type": "code",
   "execution_count": null,
   "id": "bd81dc02-9916-42cd-aa79-9b2d0807ec59",
   "metadata": {},
   "outputs": [],
   "source": []
  },
  {
   "cell_type": "code",
   "execution_count": null,
   "id": "bfa01b3c-6c76-4bf2-8a31-5a78aa6be998",
   "metadata": {},
   "outputs": [],
   "source": []
  },
  {
   "cell_type": "code",
   "execution_count": null,
   "id": "e263ccdd-7bfa-4a49-9b77-65417dc331c1",
   "metadata": {},
   "outputs": [],
   "source": []
  },
  {
   "cell_type": "code",
   "execution_count": null,
   "id": "59200209-af73-4647-98dc-696767490b85",
   "metadata": {},
   "outputs": [],
   "source": []
  },
  {
   "cell_type": "code",
   "execution_count": null,
   "id": "0865431c-8db3-4157-9cd8-1c074293c1d0",
   "metadata": {},
   "outputs": [],
   "source": []
  },
  {
   "cell_type": "code",
   "execution_count": null,
   "id": "773435cd-6265-4b35-82de-a7396c1aa00d",
   "metadata": {},
   "outputs": [],
   "source": []
  },
  {
   "cell_type": "code",
   "execution_count": null,
   "id": "2026bdf6-0d9e-49eb-9fe9-0b0266b39ec1",
   "metadata": {},
   "outputs": [],
   "source": []
  },
  {
   "cell_type": "code",
   "execution_count": null,
   "id": "4cad60ec-8530-4ce3-b7c6-d6d97d62e4a7",
   "metadata": {},
   "outputs": [],
   "source": []
  },
  {
   "cell_type": "code",
   "execution_count": null,
   "id": "8c44740d-995c-4121-94db-6981d01a626f",
   "metadata": {},
   "outputs": [],
   "source": []
  }
 ],
 "metadata": {
  "kernelspec": {
   "display_name": "Python 3 (ipykernel)",
   "language": "python",
   "name": "python3"
  },
  "language_info": {
   "codemirror_mode": {
    "name": "ipython",
    "version": 3
   },
   "file_extension": ".py",
   "mimetype": "text/x-python",
   "name": "python",
   "nbconvert_exporter": "python",
   "pygments_lexer": "ipython3",
   "version": "3.10.8"
  }
 },
 "nbformat": 4,
 "nbformat_minor": 5
}
